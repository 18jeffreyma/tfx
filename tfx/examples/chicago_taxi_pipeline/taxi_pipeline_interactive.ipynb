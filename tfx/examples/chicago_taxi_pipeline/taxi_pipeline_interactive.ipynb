{
  "nbformat": 4,
  "nbformat_minor": 0,
  "metadata": {
    "colab": {
      "name": "taxi_pipeline_interactive.ipynb",
      "version": "0.3.2",
      "provenance": [],
      "collapsed_sections": []
    },
    "kernelspec": {
      "name": "python3",
      "display_name": "Python 3"
    }
  },
  "cells": [
    {
      "cell_type": "markdown",
      "metadata": {
        "id": "23R0Z9RojXYW",
        "colab_type": "text"
      },
      "source": [
        "# TFX Iterative Development Example\n",
        "This notebook demonstrates how to use Jupyter notebooks for TFX iterative development.  Here, we walk through the Chicago Taxi example in an interactive Jupyter notebook."
      ]
    },
    {
      "cell_type": "markdown",
      "metadata": {
        "id": "2GivNBNYjb3b",
        "colab_type": "text"
      },
      "source": [
        "## Setup\n",
        "First, we install the necessary packages, download data, import modules and set up paths."
      ]
    },
    {
      "cell_type": "markdown",
      "metadata": {
        "id": "PNMMAVwGj2Sl",
        "colab_type": "text"
      },
      "source": [
        "### Install TFX and Tensorflow"
      ]
    },
    {
      "cell_type": "code",
      "metadata": {
        "id": "9Gg04ijlfJRH",
        "colab_type": "code",
        "colab": {}
      },
      "source": [
        "!pip install http://tfx-ccy-public.storage.googleapis.com/tfx-0.14.0.dev0-py3-none-any.whl"
      ],
      "execution_count": 0,
      "outputs": []
    },
    {
      "cell_type": "code",
      "metadata": {
        "id": "Es_ATeJRfMCo",
        "colab_type": "code",
        "colab": {}
      },
      "source": [
        "!pip install tensorflow==1.14.0"
      ],
      "execution_count": 0,
      "outputs": []
    },
    {
      "cell_type": "markdown",
      "metadata": {
        "id": "N-ePgV0Lj68Q",
        "colab_type": "text"
      },
      "source": [
        "### Import packages\n",
        "We import necessary packages, including standard TFX component classes."
      ]
    },
    {
      "cell_type": "code",
      "metadata": {
        "id": "YIqpWK9efviJ",
        "colab_type": "code",
        "colab": {}
      },
      "source": [
        "import os\n",
        "import tempfile\n",
        "import urllib\n",
        "\n",
        "import tfx\n",
        "from tfx.components.evaluator.component import Evaluator\n",
        "from tfx.components.example_gen.csv_example_gen.component import CsvExampleGen\n",
        "from tfx.components.example_validator.component import ExampleValidator\n",
        "from tfx.components.model_validator.component import ModelValidator\n",
        "from tfx.components.pusher.component import Pusher\n",
        "from tfx.components.schema_gen.component import SchemaGen\n",
        "from tfx.components.statistics_gen.component import StatisticsGen\n",
        "from tfx.components.trainer.component import Trainer\n",
        "from tfx.components.transform.component import Transform\n",
        "from tfx.orchestration.interactive.interactive_context import InteractiveContext\n",
        "from tfx.proto import evaluator_pb2\n",
        "from tfx.proto import pusher_pb2\n",
        "from tfx.proto import trainer_pb2\n",
        "from tfx.utils.dsl_utils import csv_input"
      ],
      "execution_count": 0,
      "outputs": []
    },
    {
      "cell_type": "markdown",
      "metadata": {
        "id": "n2cMMAbSkGfX",
        "colab_type": "text"
      },
      "source": [
        "### Download example data\n",
        "We download the sample dataset for use in our TFX pipeline."
      ]
    },
    {
      "cell_type": "code",
      "metadata": {
        "id": "BywX6OUEhAqn",
        "colab_type": "code",
        "colab": {}
      },
      "source": [
        "# Download the example data.\n",
        "_data_root = tempfile.mkdtemp(prefix='tfx-data')\n",
        "DATA_PATH = 'https://raw.githubusercontent.com/tensorflow/tfx/master/tfx/examples/chicago_taxi_pipeline/data/simple/data.csv'\n",
        "with open(os.path.join(_data_root, 'data.csv'), 'wb') as f:\n",
        "  contents = urllib.request.urlopen(DATA_PATH).read()\n",
        "  f.write(contents)"
      ],
      "execution_count": 0,
      "outputs": []
    },
    {
      "cell_type": "markdown",
      "metadata": {
        "id": "ufJKQ6OvkJlY",
        "colab_type": "text"
      },
      "source": [
        "### Set up pipeline paths"
      ]
    },
    {
      "cell_type": "code",
      "metadata": {
        "id": "ad5JLpKbf6sN",
        "colab_type": "code",
        "colab": {}
      },
      "source": [
        "# Set up paths.\n",
        "_taxi_root = os.path.join(tfx.__path__[0], 'examples/chicago_taxi_pipeline')\n",
        "# Python module file to inject customized logic into the TFX components. The\n",
        "# Transform and Trainer both require user-defined functions to run successfully.\n",
        "_taxi_module_file = os.path.join(_taxi_root, 'taxi_utils.py')\n",
        "# Path which can be listened to by the model server.  Pusher will output the\n",
        "# trained model here.\n",
        "_serving_model_dir = os.path.join(tempfile.mkdtemp(), 'serving_model/taxi_simple')"
      ],
      "execution_count": 0,
      "outputs": []
    },
    {
      "cell_type": "markdown",
      "metadata": {
        "id": "8ONIE_hdkPS4",
        "colab_type": "text"
      },
      "source": [
        "## Create the InteractiveContext\n",
        "We now create the interactive context."
      ]
    },
    {
      "cell_type": "code",
      "metadata": {
        "id": "0Rh6K5sUf9dd",
        "colab_type": "code",
        "colab": {}
      },
      "source": [
        "# Here, we create an InteractiveContext using default parameters. This will\n",
        "# use a temporary directory with an ephemeral ML Metadata database instance.\n",
        "# To use your own pipeline root or database, the optional properties\n",
        "# `pipeline_root` and `metadata_connection_config` may be passed to\n",
        "# InteractiveContext.\n",
        "context = InteractiveContext()"
      ],
      "execution_count": 0,
      "outputs": []
    },
    {
      "cell_type": "markdown",
      "metadata": {
        "id": "HdQWxfsVkzdJ",
        "colab_type": "text"
      },
      "source": [
        "## Run TFX components interactively\n",
        "Next, we construct TFX components and run each one interactively using within the interactive session to obtain `ExecutionResult` objects."
      ]
    },
    {
      "cell_type": "markdown",
      "metadata": {
        "id": "L9fwt9gQk3BR",
        "colab_type": "text"
      },
      "source": [
        "### ExampleGen\n",
        "`ExampleGen` brings data into the TFX pipeline."
      ]
    },
    {
      "cell_type": "code",
      "metadata": {
        "id": "PyXjuMt8f-9u",
        "colab_type": "code",
        "colab": {}
      },
      "source": [
        "# Use the packaged CSV input data.\n",
        "examples = csv_input(_data_root)\n",
        "\n",
        "# Brings data into the pipeline or otherwise joins/converts training data.\n",
        "example_gen = CsvExampleGen(input_base=examples)\n",
        "context.run(example_gen)"
      ],
      "execution_count": 0,
      "outputs": []
    },
    {
      "cell_type": "markdown",
      "metadata": {
        "id": "csM6BFhtk5Aa",
        "colab_type": "text"
      },
      "source": [
        "### StatisticsGen\n",
        "`StatisticsGen` computes statistics for visualization and example validation."
      ]
    },
    {
      "cell_type": "code",
      "metadata": {
        "id": "MAscCCYWgA-9",
        "colab_type": "code",
        "colab": {}
      },
      "source": [
        "# Computes statistics over data for visualization and example validation.\n",
        "statistics_gen = StatisticsGen(\n",
        "    input_data=example_gen.outputs['examples'])\n",
        "context.run(statistics_gen)"
      ],
      "execution_count": 0,
      "outputs": []
    },
    {
      "cell_type": "markdown",
      "metadata": {
        "id": "HLKLTO9Nk60p",
        "colab_type": "text"
      },
      "source": [
        "### SchemaGen\n",
        "`SchemaGen` generates a schema for your data based on computed statistics."
      ]
    },
    {
      "cell_type": "code",
      "metadata": {
        "id": "ygQvZ6hsiQ_J",
        "colab_type": "code",
        "colab": {}
      },
      "source": [
        "# Generates schema based on statistics files.\n",
        "infer_schema = SchemaGen(stats=statistics_gen.outputs['output'])\n",
        "context.run(infer_schema)"
      ],
      "execution_count": 0,
      "outputs": []
    },
    {
      "cell_type": "markdown",
      "metadata": {
        "id": "V1qcUuO9k9f8",
        "colab_type": "text"
      },
      "source": [
        "### ExampleValidator\n",
        "`ExampleValidator` performs anomaly detection based on computed statistics and your data schema."
      ]
    },
    {
      "cell_type": "code",
      "metadata": {
        "id": "XRlRUuGgiXks",
        "colab_type": "code",
        "colab": {}
      },
      "source": [
        "# Performs anomaly detection based on statistics and data schema.\n",
        "validate_stats = ExampleValidator(\n",
        "    stats=statistics_gen.outputs['output'],\n",
        "    schema=infer_schema.outputs['output'])\n",
        "context.run(validate_stats)"
      ],
      "execution_count": 0,
      "outputs": []
    },
    {
      "cell_type": "markdown",
      "metadata": {
        "id": "JPViEz5RlA36",
        "colab_type": "text"
      },
      "source": [
        "### Transform\n",
        "`Transform` performs data transformations and feature engineering which is kept in sync for training and serving."
      ]
    },
    {
      "cell_type": "code",
      "metadata": {
        "id": "jHfhth_GiZI9",
        "colab_type": "code",
        "colab": {}
      },
      "source": [
        "# Performs transformations and feature engineering in training and serving.\n",
        "transform = Transform(\n",
        "    input_data=example_gen.outputs['examples'],\n",
        "    schema=infer_schema.outputs['output'],\n",
        "    module_file=_taxi_module_file)\n",
        "context.run(transform)"
      ],
      "execution_count": 0,
      "outputs": []
    },
    {
      "cell_type": "markdown",
      "metadata": {
        "id": "OBJFtnl6lCg9",
        "colab_type": "text"
      },
      "source": [
        "### Trainer\n",
        "`Trainer` trains your custom model using TF-Learn."
      ]
    },
    {
      "cell_type": "code",
      "metadata": {
        "id": "429-vvCWibO0",
        "colab_type": "code",
        "colab": {}
      },
      "source": [
        "# Uses user-provided Python function that implements a model using TF-Learn.\n",
        "trainer = Trainer(\n",
        "    module_file=_taxi_module_file,\n",
        "    transformed_examples=transform.outputs['transformed_examples'],\n",
        "    schema=infer_schema.outputs['output'],\n",
        "    transform_output=transform.outputs['transform_output'],\n",
        "    train_args=trainer_pb2.TrainArgs(num_steps=10000),\n",
        "    eval_args=trainer_pb2.EvalArgs(num_steps=5000))\n",
        "context.run(trainer)"
      ],
      "execution_count": 0,
      "outputs": []
    },
    {
      "cell_type": "markdown",
      "metadata": {
        "id": "FmPftrv0lEQy",
        "colab_type": "text"
      },
      "source": [
        "### Evaluator\n",
        "`Evaluator` computes evaluation statistics over features of your model."
      ]
    },
    {
      "cell_type": "code",
      "metadata": {
        "id": "Zjcx8g6mihSt",
        "colab_type": "code",
        "colab": {}
      },
      "source": [
        "# Uses TFMA to compute a evaluation statistics over features of a model.\n",
        "model_analyzer = Evaluator(\n",
        "    examples=example_gen.outputs['examples'],\n",
        "    model_exports=trainer.outputs['output'],\n",
        "    feature_slicing_spec=evaluator_pb2.FeatureSlicingSpec(specs=[\n",
        "        evaluator_pb2.SingleSlicingSpec(\n",
        "            column_for_slicing=['trip_start_hour'])\n",
        "    ]))\n",
        "context.run(model_analyzer)"
      ],
      "execution_count": 0,
      "outputs": []
    },
    {
      "cell_type": "markdown",
      "metadata": {
        "id": "76Mil-7FlF_y",
        "colab_type": "text"
      },
      "source": [
        "### ModelValidator\n",
        "`ModelValidator` performs validation of your candidate model compared to a baseline."
      ]
    },
    {
      "cell_type": "code",
      "metadata": {
        "id": "FXk1MA7sijCr",
        "colab_type": "code",
        "colab": {}
      },
      "source": [
        "# Performs quality validation of a candidate model (compared to a baseline).\n",
        "model_validator = ModelValidator(\n",
        "    examples=example_gen.outputs['examples'],\n",
        "    model=trainer.outputs['output'])\n",
        "context.run(model_validator)"
      ],
      "execution_count": 0,
      "outputs": []
    },
    {
      "cell_type": "markdown",
      "metadata": {
        "id": "T8DYekCZlHfj",
        "colab_type": "text"
      },
      "source": [
        "### Pusher\n",
        "`Pusher` checks whether a model has passed validation, and if so, pushes the model to a file destination."
      ]
    },
    {
      "cell_type": "code",
      "metadata": {
        "id": "r45nQ69eikc9",
        "colab_type": "code",
        "colab": {}
      },
      "source": [
        "# Checks whether the model passed the validation steps and pushes the model\n",
        "# to a file destination if check passed.\n",
        "pusher = Pusher(\n",
        "    model_export=trainer.outputs['output'],\n",
        "    model_blessing=model_validator.outputs['blessing'],\n",
        "    push_destination=pusher_pb2.PushDestination(\n",
        "        filesystem=pusher_pb2.PushDestination.Filesystem(\n",
        "            base_directory=_serving_model_dir)))\n",
        "context.run(pusher)"
      ],
      "execution_count": 0,
      "outputs": []
    }
  ]
}